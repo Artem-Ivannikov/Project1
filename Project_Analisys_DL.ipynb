{
 "cells": [
  {
   "cell_type": "markdown",
   "metadata": {},
   "source": [
    "**1. Подключаем библиотеки**"
   ]
  },
  {
   "cell_type": "code",
   "execution_count": 1,
   "metadata": {
    "_cell_guid": "b1076dfc-b9ad-4769-8c92-a6c4dae69d19",
    "_uuid": "8f2839f25d086af736a60e9eeb907d3b93b6e0e5",
    "execution": {
     "iopub.execute_input": "2022-05-17T04:42:45.818392Z",
     "iopub.status.busy": "2022-05-17T04:42:45.818082Z",
     "iopub.status.idle": "2022-05-17T04:42:47.182885Z",
     "shell.execute_reply": "2022-05-17T04:42:47.182168Z",
     "shell.execute_reply.started": "2022-05-17T04:42:45.818360Z"
    }
   },
   "outputs": [],
   "source": [
    "import numpy as np\n",
    "import pandas as pd\n",
    "import os\n",
    "import matplotlib.pyplot as plt\n",
    "import sklearn as sk\n",
    "import skimage\n"
   ]
  },
  {
   "cell_type": "markdown",
   "metadata": {},
   "source": [
    "**2.Получаем доступ к данным** Т.к. изображения рисинок уже рассортированы по папкам с названиями видов, то отсюда информацию о названиях видов и возьмём"
   ]
  },
  {
   "cell_type": "code",
   "execution_count": 6,
   "metadata": {
    "execution": {
     "iopub.execute_input": "2022-05-17T04:42:47.184749Z",
     "iopub.status.busy": "2022-05-17T04:42:47.184304Z",
     "iopub.status.idle": "2022-05-17T04:42:47.198688Z",
     "shell.execute_reply": "2022-05-17T04:42:47.196504Z",
     "shell.execute_reply.started": "2022-05-17T04:42:47.184714Z"
    }
   },
   "outputs": [
    {
     "name": "stdout",
     "output_type": "stream",
     "text": [
      "Виды турецкого риса: Basmati, Jasmine, Ipsala, Karacadag, Arborio\n"
     ]
    }
   ],
   "source": [
    "Path = '/home/art/Project/Project1/Rice_Image_Dataset'\n",
    "Species=os.listdir(Path)\n",
    "del(Species[1])#игнорируем текстовый файл, он чисто описательный\n",
    "print(\"Виды турецкого риса: \"+', '.join(Species))"
   ]
  },
  {
   "cell_type": "markdown",
   "metadata": {},
   "source": [
    "**3.Загружем данные** С целью ускорения процесса, масштабируем изображения и делаем их полностью серыми (уходим от RGB-формата). Для работы нейросети производим спрямление массивов"
   ]
  },
  {
   "cell_type": "code",
   "execution_count": 4,
   "metadata": {
    "execution": {
     "iopub.execute_input": "2022-05-17T04:42:47.201499Z",
     "iopub.status.busy": "2022-05-17T04:42:47.200639Z",
     "iopub.status.idle": "2022-05-17T04:52:27.510140Z",
     "shell.execute_reply": "2022-05-17T04:52:27.509144Z",
     "shell.execute_reply.started": "2022-05-17T04:42:47.201466Z"
    }
   },
   "outputs": [],
   "source": [
    "rescale = skimage.transform.rescale\n",
    "imread = skimage.io.imread\n",
    "Data = {'Image':[0]*75000, 'Species':[0]*75000}\n",
    "n = 0\n",
    "for categoty in Species:\n",
    "    m=0\n",
    "    for string in os.listdir(Path+'/'+categoty):\n",
    "        image = rescale(imread(Path+'/'+categoty+'/'+string), 0.25, anti_aliasing=False)\n",
    "        Data['Image'][n]=list(image.reshape(image.shape[0]**2))\n",
    "        Data['Species'][n]=categoty\n",
    "        n+=1\n",
    "        if m==0:\n",
    "            print(\"Работаем с \"+categoty)\n",
    "        m+=1\n",
    "print(\"Конец загрузки изображений\")\n",
    "Data = pd.DataFrame(Data).sample(frac=1)"
   ]
  },
  {
   "cell_type": "code",
   "execution_count": 5,
   "metadata": {
    "execution": {
     "iopub.execute_input": "2022-05-17T04:52:27.512627Z",
     "iopub.status.busy": "2022-05-17T04:52:27.512321Z",
     "iopub.status.idle": "2022-05-17T04:52:27.560398Z",
     "shell.execute_reply": "2022-05-17T04:52:27.559777Z",
     "shell.execute_reply.started": "2022-05-17T04:52:27.512571Z"
    }
   },
   "outputs": [],
   "source": [
    "Data"
   ]
  },
  {
   "cell_type": "markdown",
   "metadata": {},
   "source": [
    "Демонстрируем возможностб частично восстановить изображение\n",
    "Также проводим разбиени данных на обучающую и тестовую выборку"
   ]
  },
  {
   "cell_type": "code",
   "execution_count": 14,
   "metadata": {
    "execution": {
     "iopub.execute_input": "2022-05-17T04:57:09.235774Z",
     "iopub.status.busy": "2022-05-17T04:57:09.235508Z",
     "iopub.status.idle": "2022-05-17T04:57:09.391558Z",
     "shell.execute_reply": "2022-05-17T04:57:09.390207Z",
     "shell.execute_reply.started": "2022-05-17T04:57:09.235748Z"
    }
   },
   "outputs": [],
   "source": [
    "from sklearn.model_selection import train_test_split\n",
    "f=np.array(Data['Image'][0])\n",
    "skimage.io.imshow(f.reshape((round(np.sqrt(f.shape[0])),round(np.sqrt(f.shape[0])),1)))\n",
    "print('Рисинка')\n",
    "X_train, X_test, y_train, y_test = train_test_split(Data['Image'],Data['Species'],random_state=0,train_size = 20000)"
   ]
  },
  {
   "cell_type": "markdown",
   "metadata": {},
   "source": [
    "Подключаем нейросеть, используем метод близжайшего соседа\n",
    "Преобразуем данные в формат, с которым классификатор согласен работать"
   ]
  },
  {
   "cell_type": "code",
   "execution_count": 15,
   "metadata": {
    "execution": {
     "iopub.execute_input": "2022-05-17T04:57:12.248605Z",
     "iopub.status.busy": "2022-05-17T04:57:12.248072Z",
     "iopub.status.idle": "2022-05-17T04:57:12.260503Z",
     "shell.execute_reply": "2022-05-17T04:57:12.259460Z",
     "shell.execute_reply.started": "2022-05-17T04:57:12.248560Z"
    }
   },
   "outputs": [],
   "source": [
    "print(X_train)\n",
    "print(y_train)"
   ]
  },
  {
   "cell_type": "code",
   "execution_count": 22,
   "metadata": {
    "execution": {
     "iopub.execute_input": "2022-05-17T05:01:24.468244Z",
     "iopub.status.busy": "2022-05-17T05:01:24.467983Z",
     "iopub.status.idle": "2022-05-17T05:07:00.775407Z",
     "shell.execute_reply": "2022-05-17T05:07:00.774198Z",
     "shell.execute_reply.started": "2022-05-17T05:01:24.468220Z"
    }
   },
   "outputs": [],
   "source": [
    "from sklearn.neural_network import MLPClassifier\n",
    "cnn = MLPClassifier(solver='adam', alpha=1e-1, hidden_layer_sizes=(300, 12), random_state=1)\n",
    "X_train_1,y_train_1=np.array(list(X_train)),list(y_train)\n",
    "cnn.fit(X_train_1,y_train_1)"
   ]
  },
  {
   "cell_type": "markdown",
   "metadata": {},
   "source": [
    "Проверяем работоспособность нашей модели"
   ]
  },
  {
   "cell_type": "code",
   "execution_count": 23,
   "metadata": {
    "execution": {
     "iopub.execute_input": "2022-05-17T05:07:00.777717Z",
     "iopub.status.busy": "2022-05-17T05:07:00.777178Z",
     "iopub.status.idle": "2022-05-17T05:07:14.024544Z",
     "shell.execute_reply": "2022-05-17T05:07:14.023921Z",
     "shell.execute_reply.started": "2022-05-17T05:07:00.777680Z"
    }
   },
   "outputs": [],
   "source": [
    "X_test_1 = np.array(list(X_test))\n",
    "Prediction = cnn.predict(X_test_1)\n",
    "\n",
    "from sklearn.metrics import accuracy_score\n",
    "\n",
    "print('Доля правильных ответов - ',100*accuracy_score(y_test, Prediction),'%')\n",
    "from sklearn.metrics import confusion_matrix\n",
    "\n",
    "mat = confusion_matrix(y_test, Prediction)\n",
    "\n",
    "\n",
    "fig = plt.figure(figsize=(7,7))\n",
    "ax = fig.add_subplot(111)\n",
    "ax.matshow(mat)\n",
    "for i in range(mat.shape[0]):\n",
    "    for j in range(mat.shape[1]):\n",
    "        ax.text(x=j, y=i,s=mat[i, j], va='center', ha='center', size='xx-large', c = 'r')\n",
    "ax.set_xticks([0,1,2,3,4])\n",
    "ax.set_yticks([0,1,2,3,4])\n",
    "ax.set_yticklabels(Species)\n",
    "ax.set_xticklabels(Species)"
   ]
  }
 ],
 "metadata": {
  "kernelspec": {
   "display_name": "Python 3 (ipykernel)",
   "language": "python",
   "name": "python3"
  },
  "language_info": {
   "codemirror_mode": {
    "name": "ipython",
    "version": 3
   },
   "file_extension": ".py",
   "mimetype": "text/x-python",
   "name": "python",
   "nbconvert_exporter": "python",
   "pygments_lexer": "ipython3",
   "version": "3.10.6"
  }
 },
 "nbformat": 4,
 "nbformat_minor": 4
}
